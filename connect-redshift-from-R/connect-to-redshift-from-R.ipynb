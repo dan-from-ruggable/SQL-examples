{
 "cells": [
  {
   "cell_type": "markdown",
   "id": "a2463a6d",
   "metadata": {},
   "source": [
    "# KPI Target Setting"
   ]
  },
  {
   "cell_type": "code",
   "execution_count": 14,
   "id": "c0a44431",
   "metadata": {},
   "outputs": [],
   "source": [
    "# libraries\n",
    "library(tidyverse)\n",
    "library(lubridate)\n",
    "library(RPostgreSQL)\n",
    "library(config)\n",
    "library(googlesheets4)"
   ]
  },
  {
   "cell_type": "code",
   "execution_count": 15,
   "id": "e7f7e07f",
   "metadata": {},
   "outputs": [
    {
     "name": "stdout",
     "output_type": "stream",
     "text": [
      "[1] \"current working directory is fine\"\n"
     ]
    }
   ],
   "source": [
    "# setting wd\n",
    "setwd([PUT WORKING DIRECTORY HERE])"
   ]
  },
  {
   "cell_type": "code",
   "execution_count": 16,
   "id": "cc654b8a",
   "metadata": {},
   "outputs": [],
   "source": [
    "# load functions\n",
    "source(\"SQL-utility-functions.R\")"
   ]
  },
  {
   "cell_type": "markdown",
   "id": "3fef238f",
   "metadata": {},
   "source": [
    "### Get Data"
   ]
  },
  {
   "cell_type": "code",
   "execution_count": 17,
   "id": "9b588c19",
   "metadata": {},
   "outputs": [],
   "source": [
    "# get credentials\n",
    "dw <- config::get(file=[PATH TO REDSHIFT CREDENTIALS YML FILE])"
   ]
  },
  {
   "cell_type": "code",
   "execution_count": 18,
   "id": "3f5094f7",
   "metadata": {},
   "outputs": [],
   "source": [
    "# connecting to dw\n",
    "con <- DBI::dbConnect(RPostgreSQL::PostgreSQL(),\n",
    "                      dbname = dw$dbname,\n",
    "                      host = dw$host,\n",
    "                      port = dw$port,\n",
    "                      user = dw$user,\n",
    "                      password = dw$password)"
   ]
  },
  {
   "cell_type": "code",
   "execution_count": 20,
   "id": "53ba8ec6",
   "metadata": {},
   "outputs": [],
   "source": [
    "query <- getSQL([PATH TO SQL FILE])\n",
    "df_sales <- dbGetQuery(con, query_sales) %>% as_tibble()"
   ]
  }
 ],
 "metadata": {
  "kernelspec": {
   "display_name": "R",
   "language": "R",
   "name": "ir"
  },
  "language_info": {
   "codemirror_mode": "r",
   "file_extension": ".r",
   "mimetype": "text/x-r-source",
   "name": "R",
   "pygments_lexer": "r",
   "version": "4.0.4"
  }
 },
 "nbformat": 4,
 "nbformat_minor": 5
}
