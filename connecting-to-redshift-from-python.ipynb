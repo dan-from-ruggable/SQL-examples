{
 "cells": [
  {
   "cell_type": "code",
   "execution_count": 8,
   "id": "5718cd3b-2cff-4b3f-953f-e8a2a46dbda8",
   "metadata": {},
   "outputs": [],
   "source": [
    "import os\n",
    "import yaml\n",
    "import datetime\n",
    "import psycopg2\n",
    "import pandas as pd\n",
    "import urllib.request\n",
    "from sqlalchemy import text\n",
    "from sqlalchemy import create_engine"
   ]
  },
  {
   "cell_type": "code",
   "execution_count": 5,
   "id": "a9bd0953-dd88-483a-9a63-ef1147f8e624",
   "metadata": {},
   "outputs": [],
   "source": [
    "# setting WD\n",
    "os.chdir([PUT WORKING DIRECTORY HERE])"
   ]
  },
  {
   "cell_type": "code",
   "execution_count": 6,
   "id": "44ad8db3-751b-408f-b034-27c1e541296f",
   "metadata": {},
   "outputs": [],
   "source": [
    "# database connection info\n",
    "with open([PATH TO REDSHIFT CREDENTIALS YML FILE], 'r') as stream:\n",
    "    try:\n",
    "        rs_cred = yaml.safe_load(stream)\n",
    "    except yaml.YAMLError as exc:\n",
    "        print(exc)\n",
    "engine_url = \"postgresql://{user_name}:{pw}@{host}:{port}/{db_name}\".format(user_name = rs_cred['default']['user'],\n",
    "                                                                            pw        = urllib.parse.quote_plus(rs_cred['default']['password']),\n",
    "                                                                            host      = rs_cred['default']['host'],\n",
    "                                                                            port      = rs_cred['default']['port'],\n",
    "                                                                            db_name   = rs_cred['default']['dbname']\n",
    "                                                                           )\n",
    "engine = create_engine(engine_url)"
   ]
  },
  {
   "cell_type": "code",
   "execution_count": 11,
   "id": "d4bfafc8-eb42-4d25-93a3-ad160f230a20",
   "metadata": {},
   "outputs": [],
   "source": [
    "# query\n",
    "query = open([PATH TO SQL FILE], 'r')\n",
    "query_text = text(query.read())\n",
    "df = pd.read_sql_query(query_text, engine)"
   ]
  }
 ],
 "metadata": {
  "kernelspec": {
   "display_name": "Python 3",
   "language": "python",
   "name": "python3"
  },
  "language_info": {
   "codemirror_mode": {
    "name": "ipython",
    "version": 3
   },
   "file_extension": ".py",
   "mimetype": "text/x-python",
   "name": "python",
   "nbconvert_exporter": "python",
   "pygments_lexer": "ipython3",
   "version": "3.8.5"
  },
  "toc-autonumbering": false,
  "toc-showcode": false,
  "toc-showmarkdowntxt": false,
  "toc-showtags": false
 },
 "nbformat": 4,
 "nbformat_minor": 5
}
